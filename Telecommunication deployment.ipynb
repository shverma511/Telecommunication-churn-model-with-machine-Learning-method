{
 "cells": [
  {
   "cell_type": "code",
   "execution_count": 1,
   "id": "1337d072",
   "metadata": {},
   "outputs": [],
   "source": [
    "import pandas as pd\n",
    "import streamlit as st\n",
    "from sklearn.linear_model import LogisticRegression\n",
    "from sklearn.ensemble import RandomForestClassifier\n",
    "from pickle import dump\n",
    "from pickle import load\n",
    "\n",
    "import warnings\n",
    "warnings.filterwarnings('ignore')"
   ]
  },
  {
   "cell_type": "code",
   "execution_count": 2,
   "id": "43d44d22",
   "metadata": {},
   "outputs": [
    {
     "name": "stderr",
     "output_type": "stream",
     "text": [
      "2022-08-30 14:38:57.392 \n",
      "  \u001b[33m\u001b[1mWarning:\u001b[0m to view this Streamlit app on a browser, run it with the following\n",
      "  command:\n",
      "\n",
      "    streamlit run C:\\Users\\joins\\Downloads\\New folder\\lib\\site-packages\\ipykernel_launcher.py [ARGUMENTS]\n"
     ]
    },
    {
     "data": {
      "text/plain": [
       "DeltaGenerator(_root_container=1, _provided_cursor=None, _parent=DeltaGenerator(_root_container=0, _provided_cursor=None, _parent=None, _block_type=None, _form_data=None), _block_type=None, _form_data=None)"
      ]
     },
     "execution_count": 2,
     "metadata": {},
     "output_type": "execute_result"
    }
   ],
   "source": [
    "st.title('Telecommunication Churn Prediction')\n",
    "st.sidebar.header('User Input Parameters')"
   ]
  },
  {
   "cell_type": "code",
   "execution_count": 3,
   "id": "aa9e8700",
   "metadata": {},
   "outputs": [
    {
     "data": {
      "text/html": [
       "<div>\n",
       "<style scoped>\n",
       "    .dataframe tbody tr th:only-of-type {\n",
       "        vertical-align: middle;\n",
       "    }\n",
       "\n",
       "    .dataframe tbody tr th {\n",
       "        vertical-align: top;\n",
       "    }\n",
       "\n",
       "    .dataframe thead th {\n",
       "        text-align: right;\n",
       "    }\n",
       "</style>\n",
       "<table border=\"1\" class=\"dataframe\">\n",
       "  <thead>\n",
       "    <tr style=\"text-align: right;\">\n",
       "      <th></th>\n",
       "      <th>account_length</th>\n",
       "      <th>voice_mail_plan</th>\n",
       "      <th>voice_mail_messages</th>\n",
       "      <th>day_mins</th>\n",
       "      <th>evening_mins</th>\n",
       "      <th>night_mins</th>\n",
       "      <th>international_mins</th>\n",
       "      <th>customer_service_calls</th>\n",
       "      <th>international_plan</th>\n",
       "      <th>day_calls</th>\n",
       "      <th>day_charge</th>\n",
       "      <th>evening_calls</th>\n",
       "      <th>evening_charge</th>\n",
       "      <th>night_calls</th>\n",
       "      <th>night_charge</th>\n",
       "      <th>international_calls</th>\n",
       "      <th>international_charge</th>\n",
       "      <th>total_charge</th>\n",
       "    </tr>\n",
       "  </thead>\n",
       "  <tbody>\n",
       "    <tr>\n",
       "      <th>0</th>\n",
       "      <td>147</td>\n",
       "      <td>1</td>\n",
       "      <td>5</td>\n",
       "      <td>155</td>\n",
       "      <td>167</td>\n",
       "      <td>128</td>\n",
       "      <td>10</td>\n",
       "      <td>9</td>\n",
       "      <td>0</td>\n",
       "      <td>74</td>\n",
       "      <td>15</td>\n",
       "      <td>84</td>\n",
       "      <td>38</td>\n",
       "      <td>85</td>\n",
       "      <td>21</td>\n",
       "      <td>2</td>\n",
       "      <td>9</td>\n",
       "      <td>61</td>\n",
       "    </tr>\n",
       "    <tr>\n",
       "      <th>1</th>\n",
       "      <td>297</td>\n",
       "      <td>1</td>\n",
       "      <td>21</td>\n",
       "      <td>246</td>\n",
       "      <td>110</td>\n",
       "      <td>147</td>\n",
       "      <td>15</td>\n",
       "      <td>3</td>\n",
       "      <td>0</td>\n",
       "      <td>99</td>\n",
       "      <td>42</td>\n",
       "      <td>50</td>\n",
       "      <td>42</td>\n",
       "      <td>76</td>\n",
       "      <td>16</td>\n",
       "      <td>2</td>\n",
       "      <td>9</td>\n",
       "      <td>53</td>\n",
       "    </tr>\n",
       "    <tr>\n",
       "      <th>2</th>\n",
       "      <td>231</td>\n",
       "      <td>0</td>\n",
       "      <td>19</td>\n",
       "      <td>124</td>\n",
       "      <td>159</td>\n",
       "      <td>147</td>\n",
       "      <td>20</td>\n",
       "      <td>10</td>\n",
       "      <td>0</td>\n",
       "      <td>104</td>\n",
       "      <td>15</td>\n",
       "      <td>22</td>\n",
       "      <td>44</td>\n",
       "      <td>74</td>\n",
       "      <td>13</td>\n",
       "      <td>6</td>\n",
       "      <td>3</td>\n",
       "      <td>64</td>\n",
       "    </tr>\n",
       "    <tr>\n",
       "      <th>3</th>\n",
       "      <td>120</td>\n",
       "      <td>0</td>\n",
       "      <td>6</td>\n",
       "      <td>247</td>\n",
       "      <td>176</td>\n",
       "      <td>181</td>\n",
       "      <td>23</td>\n",
       "      <td>3</td>\n",
       "      <td>1</td>\n",
       "      <td>118</td>\n",
       "      <td>29</td>\n",
       "      <td>12</td>\n",
       "      <td>49</td>\n",
       "      <td>100</td>\n",
       "      <td>15</td>\n",
       "      <td>1</td>\n",
       "      <td>6</td>\n",
       "      <td>63</td>\n",
       "    </tr>\n",
       "    <tr>\n",
       "      <th>4</th>\n",
       "      <td>216</td>\n",
       "      <td>0</td>\n",
       "      <td>24</td>\n",
       "      <td>243</td>\n",
       "      <td>164</td>\n",
       "      <td>126</td>\n",
       "      <td>21</td>\n",
       "      <td>5</td>\n",
       "      <td>1</td>\n",
       "      <td>143</td>\n",
       "      <td>20</td>\n",
       "      <td>81</td>\n",
       "      <td>29</td>\n",
       "      <td>81</td>\n",
       "      <td>19</td>\n",
       "      <td>6</td>\n",
       "      <td>5</td>\n",
       "      <td>67</td>\n",
       "    </tr>\n",
       "  </tbody>\n",
       "</table>\n",
       "</div>"
      ],
      "text/plain": [
       "   account_length  voice_mail_plan  voice_mail_messages  day_mins  \\\n",
       "0             147                1                    5       155   \n",
       "1             297                1                   21       246   \n",
       "2             231                0                   19       124   \n",
       "3             120                0                    6       247   \n",
       "4             216                0                   24       243   \n",
       "\n",
       "   evening_mins  night_mins  international_mins  customer_service_calls  \\\n",
       "0           167         128                  10                       9   \n",
       "1           110         147                  15                       3   \n",
       "2           159         147                  20                      10   \n",
       "3           176         181                  23                       3   \n",
       "4           164         126                  21                       5   \n",
       "\n",
       "   international_plan  day_calls  day_charge  evening_calls  evening_charge  \\\n",
       "0                   0         74          15             84              38   \n",
       "1                   0         99          42             50              42   \n",
       "2                   0        104          15             22              44   \n",
       "3                   1        118          29             12              49   \n",
       "4                   1        143          20             81              29   \n",
       "\n",
       "   night_calls  night_charge  international_calls  international_charge  \\\n",
       "0           85            21                    2                     9   \n",
       "1           76            16                    2                     9   \n",
       "2           74            13                    6                     3   \n",
       "3          100            15                    1                     6   \n",
       "4           81            19                    6                     5   \n",
       "\n",
       "   total_charge  \n",
       "0            61  \n",
       "1            53  \n",
       "2            64  \n",
       "3            63  \n",
       "4            67  "
      ]
     },
     "execution_count": 3,
     "metadata": {},
     "output_type": "execute_result"
    }
   ],
   "source": [
    "def load_data():\n",
    "    data = pd.read_excel('New data testing.xlsx')\n",
    "    return data\n",
    "data = load_data()\n",
    "data.head()"
   ]
  },
  {
   "cell_type": "code",
   "execution_count": 4,
   "id": "1e37ecdc",
   "metadata": {},
   "outputs": [],
   "source": [
    "st.write(data)"
   ]
  },
  {
   "cell_type": "code",
   "execution_count": 5,
   "id": "8b3c4449",
   "metadata": {},
   "outputs": [
    {
     "data": {
      "text/plain": [
       "DeltaGenerator(_root_container=0, _provided_cursor=None, _parent=None, _block_type=None, _form_data=None)"
      ]
     },
     "execution_count": 5,
     "metadata": {},
     "output_type": "execute_result"
    }
   ],
   "source": [
    "st.line_chart(data[['day_mins','evening_mins','night_mins','international_mins']])"
   ]
  },
  {
   "cell_type": "code",
   "execution_count": 6,
   "id": "d0c80d4c",
   "metadata": {},
   "outputs": [
    {
     "data": {
      "text/plain": [
       "DeltaGenerator(_root_container=0, _provided_cursor=None, _parent=None, _block_type=None, _form_data=None)"
      ]
     },
     "execution_count": 6,
     "metadata": {},
     "output_type": "execute_result"
    }
   ],
   "source": [
    "st.line_chart(data[['day_calls','evening_calls','night_calls','international_calls']])"
   ]
  },
  {
   "cell_type": "code",
   "execution_count": 7,
   "id": "ceb82ce0",
   "metadata": {},
   "outputs": [
    {
     "data": {
      "text/plain": [
       "DeltaGenerator(_root_container=0, _provided_cursor=None, _parent=None, _block_type=None, _form_data=None)"
      ]
     },
     "execution_count": 7,
     "metadata": {},
     "output_type": "execute_result"
    }
   ],
   "source": [
    "st.bar_chart(data[['day_charge','evening_charge','international_charge','total_charge']])"
   ]
  },
  {
   "cell_type": "code",
   "execution_count": 8,
   "id": "f6cb6829",
   "metadata": {},
   "outputs": [],
   "source": [
    "def user_input_features():\n",
    "    account_length = st.sidebar.number_input('Insert the Account Length')\n",
    "    voice_mail_plan  = st.sidebar.selectbox('Plan',('1','0'))\n",
    "    voice_mail_messages = st.sidebar.number_input('Insert the Voice Mail Messages')\n",
    "    day_mins = st.sidebar.number_input(\"Insert Day Minute\")\n",
    "    evening_mins = st.sidebar.number_input(\"Insert Evening Minute\")\n",
    "    night_mins = st.sidebar.number_input(\"Insert Night Minute\")\n",
    "    international_mins = st.sidebar.number_input(\"Insert International Minute\")\n",
    "    customer_service_calls = st.sidebar.number_input('Insert Customer Service calls')\n",
    "    international_plan = st.sidebar.selectbox('Plan',('1','2'))\n",
    "    day_calls = st.sidebar.number_input('Insert Number of Day Calls')\n",
    "    day_charge = st.sidebar.number_input('Insert Day call Charge')\n",
    "    evening_calls = st.sidebar.number_input('Insert Number of Evening Calls')\n",
    "    evening_charge = st.sidebar.number_input('Insert Evening call Charge')\n",
    "    night_calls = st.sidebar.number_input('Insert Number of Night Calls')\n",
    "    night_charge = st.sidebar.number_input('Insert Night call Charge')\n",
    "    international_calls = st.sidebar.number_input('Insert Number of International Calls')\n",
    "    international_charge = st.sidebar.number_input('Insert International call Charge')\n",
    "    total_charge = st.sidebar.number_input('Insert Total Charge')\n",
    "    data = {'account_length':account_length,\n",
    "            'voice_mail_plan':voice_mail_plan,\n",
    "            'voice_mail_messages':voice_mail_messages,\n",
    "            'day_mins':day_mins,\n",
    "            'evening_mins':evening_mins,\n",
    "            'night_mins':night_mins,\n",
    "            'international_mins':international_mins,\n",
    "            'customer_service_calls':customer_service_calls,\n",
    "            'international_plan':international_plan,\n",
    "            'day_calls':day_calls,\n",
    "            'day_charge':day_charge,\n",
    "            'evening_calls':evening_calls,\n",
    "            'evening_charge':evening_charge,\n",
    "            'night_calls':night_calls,\n",
    "            'night_charge':night_charge,\n",
    "            'international_calls':international_calls,\n",
    "            'international_charge':international_charge,\n",
    "            'total_charge':total_charge}\n",
    "    features = pd.DataFrame(data,index = [0])\n",
    "    return features"
   ]
  },
  {
   "cell_type": "code",
   "execution_count": 9,
   "id": "403fadb1",
   "metadata": {},
   "outputs": [],
   "source": [
    "df = user_input_features()\n",
    "st.subheader('User Input parameters')\n",
    "st.write(df)"
   ]
  },
  {
   "cell_type": "code",
   "execution_count": 10,
   "id": "53614e82",
   "metadata": {},
   "outputs": [],
   "source": [
    "loaded_model = load(open('filename', 'rb'))\n",
    "prediction = loaded_model.predict(df)\n",
    "prediction_proba = loaded_model.predict_proba(df)"
   ]
  },
  {
   "cell_type": "code",
   "execution_count": 12,
   "id": "167886b5",
   "metadata": {},
   "outputs": [],
   "source": [
    "st.subheader('Predicted Result')\n",
    "st.write('churn' if prediction_proba[0][1] > 0.8 else 'Customer is Loyal')"
   ]
  },
  {
   "cell_type": "code",
   "execution_count": null,
   "id": "2b7b74bc",
   "metadata": {},
   "outputs": [],
   "source": []
  }
 ],
 "metadata": {
  "kernelspec": {
   "display_name": "Python 3 (ipykernel)",
   "language": "python",
   "name": "python3"
  },
  "language_info": {
   "codemirror_mode": {
    "name": "ipython",
    "version": 3
   },
   "file_extension": ".py",
   "mimetype": "text/x-python",
   "name": "python",
   "nbconvert_exporter": "python",
   "pygments_lexer": "ipython3",
   "version": "3.9.7"
  }
 },
 "nbformat": 4,
 "nbformat_minor": 5
}
